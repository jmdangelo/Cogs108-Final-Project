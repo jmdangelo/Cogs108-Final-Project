{
 "cells": [
  {
   "cell_type": "markdown",
   "metadata": {},
   "source": [
    "NAMES & IDs: \n",
    "Bryant Liu - A13458492\n",
    "Jingyao Chen - A92071265\n",
    "Joseph D’Angelo - A13580892\n",
    "Tammy Lee - A13573330"
   ]
  },
  {
   "cell_type": "markdown",
   "metadata": {},
   "source": [
    "OVERVIEW: \n",
    "Include 3-4 sentences summarizing your group’s project "
   ]
  },
  {
   "cell_type": "markdown",
   "metadata": {},
   "source": [
    "RESEARCH QUESTION: \n",
    "What is your research question? (1-2 sentences) "
   ]
  },
  {
   "cell_type": "markdown",
   "metadata": {},
   "source": [
    "HYPOTHESIS: \n",
    "What is your main hypothesis and predictions? Briefly explain why. (2-3 sentences) "
   ]
  },
  {
   "cell_type": "markdown",
   "metadata": {},
   "source": [
    "BACKGROUND & PRIOR WORK: Why is this question of interest to your group? What background information led you to your hypothesis. Why is this important? \n",
    "Find some relevant prior work, and reference those sources. Even if you think you have a totally novel question, find the most similar prior work that you can and discuss how it relates to your project. \n",
    "References can be research publications, but they need not be. Blogs, GitHub repositories, company websites, etc., are all viable references if they are relevant to your project. (2-3 paragraphs, including at least 2 references) \n",
    "\n",
    "\n"
   ]
  },
  {
   "cell_type": "markdown",
   "metadata": {},
   "source": [
    "DATASET(S): \n",
    "What data will you use to answer your question? Describe the dataset(s) in terms of number of observations, what kind of features it contains, etc. You must use at least one dataset containing at least approximately 1000 observations (if your data are smaller but you feel they are sufficient, email Prof. Ellis). You are welcome (and in fact recommended) to find multiple datasets! If you do so, describe each one, and briefly explain how you will combine them together. Include the source of the dataset in the description here. "
   ]
  },
  {
   "cell_type": "markdown",
   "metadata": {},
   "source": [
    "DATA CLEANING: \n",
    "What methods did you use to analyze your data? Briefly explain what steps you had to take before you were able to use the datasets you chose to answer your question of interest. \n",
    "- How 'clean' is the data? - What did you have to do to get the data into a usable format? - What pre-processing steps that were required for your methods (for example, checking data distributions \n",
    "and performing any transformations that may be required) "
   ]
  },
  {
   "cell_type": "code",
   "execution_count": 1,
   "metadata": {},
   "outputs": [],
   "source": [
    "import numpy as np\n",
    "import pandas as pd\n",
    "import matplotlib.pyplot as plt\n",
    "import seaborn as sns\n",
    "\n",
    "from pyzipcode import ZipCodeDatabase\n",
    "from numpy import arange,array,ones\n",
    "from scipy import stats"
   ]
  },
  {
   "cell_type": "code",
   "execution_count": 2,
   "metadata": {
    "scrolled": true
   },
   "outputs": [
    {
     "name": "stderr",
     "output_type": "stream",
     "text": [
      "/usr/local/lib/python3.7/dist-packages/IPython/core/interactiveshell.py:3049: DtypeWarning: Columns (0) have mixed types. Specify dtype option on import or set low_memory=False.\n",
      "  interactivity=interactivity, compiler=compiler, result=result)\n"
     ]
    },
    {
     "data": {
      "text/html": [
       "<div>\n",
       "<style scoped>\n",
       "    .dataframe tbody tr th:only-of-type {\n",
       "        vertical-align: middle;\n",
       "    }\n",
       "\n",
       "    .dataframe tbody tr th {\n",
       "        vertical-align: top;\n",
       "    }\n",
       "\n",
       "    .dataframe thead th {\n",
       "        text-align: right;\n",
       "    }\n",
       "</style>\n",
       "<table border=\"1\" class=\"dataframe\">\n",
       "  <thead>\n",
       "    <tr style=\"text-align: right;\">\n",
       "      <th></th>\n",
       "      <th>Number</th>\n",
       "      <th>Amount</th>\n",
       "      <th>Wealth</th>\n",
       "    </tr>\n",
       "    <tr>\n",
       "      <th>ZIP code</th>\n",
       "      <th></th>\n",
       "      <th></th>\n",
       "      <th></th>\n",
       "    </tr>\n",
       "  </thead>\n",
       "  <tbody>\n",
       "    <tr>\n",
       "      <th>90001</th>\n",
       "      <td>21670</td>\n",
       "      <td>619635</td>\n",
       "      <td>28594.139363</td>\n",
       "    </tr>\n",
       "    <tr>\n",
       "      <th>90002</th>\n",
       "      <td>19890</td>\n",
       "      <td>563172</td>\n",
       "      <td>28314.328808</td>\n",
       "    </tr>\n",
       "    <tr>\n",
       "      <th>90003</th>\n",
       "      <td>27290</td>\n",
       "      <td>730810</td>\n",
       "      <td>26779.406376</td>\n",
       "    </tr>\n",
       "    <tr>\n",
       "      <th>90004</th>\n",
       "      <td>27810</td>\n",
       "      <td>1995586</td>\n",
       "      <td>71757.856886</td>\n",
       "    </tr>\n",
       "    <tr>\n",
       "      <th>90005</th>\n",
       "      <td>15850</td>\n",
       "      <td>807743</td>\n",
       "      <td>50961.703470</td>\n",
       "    </tr>\n",
       "  </tbody>\n",
       "</table>\n",
       "</div>"
      ],
      "text/plain": [
       "          Number   Amount        Wealth\n",
       "ZIP code                               \n",
       "90001      21670   619635  28594.139363\n",
       "90002      19890   563172  28314.328808\n",
       "90003      27290   730810  26779.406376\n",
       "90004      27810  1995586  71757.856886\n",
       "90005      15850   807743  50961.703470"
      ]
     },
     "execution_count": 2,
     "metadata": {},
     "output_type": "execute_result"
    }
   ],
   "source": [
    "df_income = pd.read_csv('irs-zipcode.csv')\n",
    "\n",
    "# Change column name using second row\n",
    "df_income.columns = df_income.iloc[2]\n",
    "\n",
    "# Drop 0th, 1st, nan rows; select 'Number of returns' and 'Amount' of 'Total income' columns \n",
    "df_income = df_income.drop([0, 1])\n",
    "df_income = df_income.rename(index=str, columns={'ZIP\\ncode [1]': 'ZIP code'})\n",
    "df_income = df_income.rename(index=str, columns={'Number of returns': 'Number'})\n",
    "df_income = df_income.set_index('ZIP code')\n",
    "\n",
    "# Drop na rows\n",
    "df_income_selected = df_income.iloc[:, [16, 17]]\n",
    "df_income_selected = df_income_selected.dropna()\n",
    "df_income_selected.columns = ['Number of returns', 'Amount']\n",
    "\n",
    "# Drop zip code 00000 and 99999\n",
    "df_income_selected = df_income_selected.drop(['00000', '99999'])\n",
    "\n",
    "# Drop all rows but the first, which is total returns and amount\n",
    "df_income_selected = df_income_selected.loc[~df_income_selected.index.duplicated(keep='first')]\n",
    "df_income_selected = df_income_selected.reset_index()\n",
    "df_income_selected = df_income_selected.drop([0])\n",
    "\n",
    "# Set index to be Zip Code\n",
    "df_income_selected = df_income_selected.set_index('ZIP code')\n",
    "df_income_selected = df_income_selected.rename(index=str, columns={'Number of returns': 'Number'})\n",
    "\n",
    "# Remove commas so that the numbers can be converted to integers\n",
    "df_income_selected['Amount'] = df_income_selected['Amount'].str.replace(',', '')\n",
    "df_income_selected['Number'] = df_income_selected['Number'].str.replace(',', '')\n",
    "df_income_selected['Amount'] = pd.to_numeric(df_income_selected['Amount'])\n",
    "df_income_selected['Number'] = pd.to_numeric(df_income_selected['Number'])\n",
    "\n",
    "# Make standardized wealth number by dividing amount of money by number of returns\n",
    "# Then multiplying by 1000 because money is in thousands\n",
    "df_income_selected['Wealth'] = df_income_selected.apply(lambda x: (x.Amount / x.Number) * 1000, axis=1)\n",
    "df_income = df_income_selected\n",
    "df_income.head()"
   ]
  },
  {
   "cell_type": "code",
   "execution_count": 3,
   "metadata": {},
   "outputs": [
    {
     "name": "stderr",
     "output_type": "stream",
     "text": [
      "/usr/local/lib/python3.7/dist-packages/IPython/core/interactiveshell.py:3049: DtypeWarning: Columns (16) have mixed types. Specify dtype option on import or set low_memory=False.\n",
      "  interactivity=interactivity, compiler=compiler, result=result)\n"
     ]
    },
    {
     "data": {
      "text/html": [
       "<div>\n",
       "<style scoped>\n",
       "    .dataframe tbody tr th:only-of-type {\n",
       "        vertical-align: middle;\n",
       "    }\n",
       "\n",
       "    .dataframe tbody tr th {\n",
       "        vertical-align: top;\n",
       "    }\n",
       "\n",
       "    .dataframe thead th {\n",
       "        text-align: right;\n",
       "    }\n",
       "</style>\n",
       "<table border=\"1\" class=\"dataframe\">\n",
       "  <thead>\n",
       "    <tr style=\"text-align: right;\">\n",
       "      <th></th>\n",
       "      <th>Checking or savings account</th>\n",
       "      <th>Consumer Loan</th>\n",
       "      <th>Credit reporting</th>\n",
       "      <th>Credit reporting, credit repair services, or other personal consumer reports</th>\n",
       "      <th>Debt collection</th>\n",
       "      <th>Mortgage</th>\n",
       "      <th>Credit card or prepaid card</th>\n",
       "      <th>Student loan</th>\n",
       "      <th>Bank account or service</th>\n",
       "      <th>Payday loan, title loan, or personal loan</th>\n",
       "      <th>Vehicle loan or lease</th>\n",
       "      <th>Credit card</th>\n",
       "      <th>Money transfer, virtual currency, or money service</th>\n",
       "      <th>Payday loan</th>\n",
       "      <th>Prepaid card</th>\n",
       "      <th>Money transfers</th>\n",
       "      <th>Other financial service</th>\n",
       "    </tr>\n",
       "    <tr>\n",
       "      <th>ZIP code</th>\n",
       "      <th></th>\n",
       "      <th></th>\n",
       "      <th></th>\n",
       "      <th></th>\n",
       "      <th></th>\n",
       "      <th></th>\n",
       "      <th></th>\n",
       "      <th></th>\n",
       "      <th></th>\n",
       "      <th></th>\n",
       "      <th></th>\n",
       "      <th></th>\n",
       "      <th></th>\n",
       "      <th></th>\n",
       "      <th></th>\n",
       "      <th></th>\n",
       "      <th></th>\n",
       "    </tr>\n",
       "  </thead>\n",
       "  <tbody>\n",
       "    <tr>\n",
       "      <th>90001.0</th>\n",
       "      <td>3.0</td>\n",
       "      <td>1.0</td>\n",
       "      <td>4.0</td>\n",
       "      <td>28.0</td>\n",
       "      <td>22.0</td>\n",
       "      <td>6.0</td>\n",
       "      <td>0.0</td>\n",
       "      <td>0.0</td>\n",
       "      <td>0.0</td>\n",
       "      <td>0.0</td>\n",
       "      <td>0.0</td>\n",
       "      <td>0.0</td>\n",
       "      <td>0.0</td>\n",
       "      <td>0.0</td>\n",
       "      <td>0.0</td>\n",
       "      <td>0.0</td>\n",
       "      <td>0.0</td>\n",
       "    </tr>\n",
       "    <tr>\n",
       "      <th>90002.0</th>\n",
       "      <td>0.0</td>\n",
       "      <td>0.0</td>\n",
       "      <td>0.0</td>\n",
       "      <td>21.0</td>\n",
       "      <td>13.0</td>\n",
       "      <td>3.0</td>\n",
       "      <td>4.0</td>\n",
       "      <td>7.0</td>\n",
       "      <td>0.0</td>\n",
       "      <td>0.0</td>\n",
       "      <td>0.0</td>\n",
       "      <td>0.0</td>\n",
       "      <td>0.0</td>\n",
       "      <td>0.0</td>\n",
       "      <td>0.0</td>\n",
       "      <td>0.0</td>\n",
       "      <td>0.0</td>\n",
       "    </tr>\n",
       "    <tr>\n",
       "      <th>90003.0</th>\n",
       "      <td>3.0</td>\n",
       "      <td>0.0</td>\n",
       "      <td>0.0</td>\n",
       "      <td>40.0</td>\n",
       "      <td>9.0</td>\n",
       "      <td>4.0</td>\n",
       "      <td>1.0</td>\n",
       "      <td>1.0</td>\n",
       "      <td>1.0</td>\n",
       "      <td>0.0</td>\n",
       "      <td>0.0</td>\n",
       "      <td>0.0</td>\n",
       "      <td>0.0</td>\n",
       "      <td>0.0</td>\n",
       "      <td>0.0</td>\n",
       "      <td>0.0</td>\n",
       "      <td>0.0</td>\n",
       "    </tr>\n",
       "    <tr>\n",
       "      <th>90004.0</th>\n",
       "      <td>7.0</td>\n",
       "      <td>0.0</td>\n",
       "      <td>0.0</td>\n",
       "      <td>13.0</td>\n",
       "      <td>8.0</td>\n",
       "      <td>3.0</td>\n",
       "      <td>5.0</td>\n",
       "      <td>2.0</td>\n",
       "      <td>1.0</td>\n",
       "      <td>1.0</td>\n",
       "      <td>1.0</td>\n",
       "      <td>0.0</td>\n",
       "      <td>0.0</td>\n",
       "      <td>0.0</td>\n",
       "      <td>0.0</td>\n",
       "      <td>0.0</td>\n",
       "      <td>0.0</td>\n",
       "    </tr>\n",
       "    <tr>\n",
       "      <th>90005.0</th>\n",
       "      <td>1.0</td>\n",
       "      <td>0.0</td>\n",
       "      <td>5.0</td>\n",
       "      <td>5.0</td>\n",
       "      <td>7.0</td>\n",
       "      <td>3.0</td>\n",
       "      <td>1.0</td>\n",
       "      <td>0.0</td>\n",
       "      <td>0.0</td>\n",
       "      <td>0.0</td>\n",
       "      <td>0.0</td>\n",
       "      <td>1.0</td>\n",
       "      <td>0.0</td>\n",
       "      <td>0.0</td>\n",
       "      <td>0.0</td>\n",
       "      <td>0.0</td>\n",
       "      <td>0.0</td>\n",
       "    </tr>\n",
       "  </tbody>\n",
       "</table>\n",
       "</div>"
      ],
      "text/plain": [
       "          Checking or savings account  Consumer Loan  Credit reporting  \\\n",
       "ZIP code                                                                 \n",
       "90001.0                           3.0            1.0               4.0   \n",
       "90002.0                           0.0            0.0               0.0   \n",
       "90003.0                           3.0            0.0               0.0   \n",
       "90004.0                           7.0            0.0               0.0   \n",
       "90005.0                           1.0            0.0               5.0   \n",
       "\n",
       "          Credit reporting, credit repair services, or other personal consumer reports  \\\n",
       "ZIP code                                                                                 \n",
       "90001.0                                                28.0                              \n",
       "90002.0                                                21.0                              \n",
       "90003.0                                                40.0                              \n",
       "90004.0                                                13.0                              \n",
       "90005.0                                                 5.0                              \n",
       "\n",
       "          Debt collection  Mortgage  Credit card or prepaid card  \\\n",
       "ZIP code                                                           \n",
       "90001.0              22.0       6.0                          0.0   \n",
       "90002.0              13.0       3.0                          4.0   \n",
       "90003.0               9.0       4.0                          1.0   \n",
       "90004.0               8.0       3.0                          5.0   \n",
       "90005.0               7.0       3.0                          1.0   \n",
       "\n",
       "          Student loan  Bank account or service  \\\n",
       "ZIP code                                          \n",
       "90001.0            0.0                      0.0   \n",
       "90002.0            7.0                      0.0   \n",
       "90003.0            1.0                      1.0   \n",
       "90004.0            2.0                      1.0   \n",
       "90005.0            0.0                      0.0   \n",
       "\n",
       "          Payday loan, title loan, or personal loan  Vehicle loan or lease  \\\n",
       "ZIP code                                                                     \n",
       "90001.0                                         0.0                    0.0   \n",
       "90002.0                                         0.0                    0.0   \n",
       "90003.0                                         0.0                    0.0   \n",
       "90004.0                                         1.0                    1.0   \n",
       "90005.0                                         0.0                    0.0   \n",
       "\n",
       "          Credit card  Money transfer, virtual currency, or money service  \\\n",
       "ZIP code                                                                    \n",
       "90001.0           0.0                                                0.0    \n",
       "90002.0           0.0                                                0.0    \n",
       "90003.0           0.0                                                0.0    \n",
       "90004.0           0.0                                                0.0    \n",
       "90005.0           1.0                                                0.0    \n",
       "\n",
       "          Payday loan  Prepaid card  Money transfers  Other financial service  \n",
       "ZIP code                                                                       \n",
       "90001.0           0.0           0.0              0.0                      0.0  \n",
       "90002.0           0.0           0.0              0.0                      0.0  \n",
       "90003.0           0.0           0.0              0.0                      0.0  \n",
       "90004.0           0.0           0.0              0.0                      0.0  \n",
       "90005.0           0.0           0.0              0.0                      0.0  "
      ]
     },
     "execution_count": 3,
     "metadata": {},
     "output_type": "execute_result"
    }
   ],
   "source": [
    "df_complaints = pd.read_csv('new2.csv')\n",
    "\n",
    "# Remove all of the unimportant columns from our dataframe\n",
    "df_complaints = df_complaints.drop(columns=['Date received', 'Sub-product', 'Issue', 'Sub-issue', 'Consumer complaint narrative',\n",
    "                                           'Company public response', 'Company', 'State', 'Tags', 'Consumer consent provided?',\n",
    "                                           'Submitted via', 'Date sent to company', 'Company response to consumer', \n",
    "                                           'Timely response?', 'Consumer disputed?', 'Complaint ID'])\n",
    "\n",
    "# Remove weird zip codes\n",
    "df_complaints = df_complaints[df_complaints['ZIP code'] >= 90001]\n",
    "df_complaints = df_complaints.sort_index()\n",
    "\n",
    "# Create groups for unique zip codes and unique products\n",
    "df_complaints_groups = df_complaints.groupby(['ZIP code', 'Product'])\n",
    "df_complaints_2 = pd.DataFrame(columns = ['ZIP code'])\n",
    "\n",
    "# In each group, get the length which represents \n",
    "for key, item in df_complaints_groups:\n",
    "    # Make new column with complaint type being the header and amount of that complaint being the type\n",
    "    group_length = len(df_complaints_groups.get_group(key))\n",
    "    df_complaints_2 = df_complaints_2.append({'ZIP code' : int(key[0]), key[1] : group_length}, ignore_index=True)\n",
    "\n",
    "# Convert na to 0's for adding purposes\n",
    "df_complaints_2 = df_complaints_2.fillna(int(0))\n",
    "\n",
    "# Sum all unique zip codes to get one row per zip code\n",
    "grouped_df = df_complaints_2.groupby('ZIP code').sum()\n",
    "\n",
    "grouped_df.head()\n"
   ]
  },
  {
   "cell_type": "code",
   "execution_count": 4,
   "metadata": {},
   "outputs": [],
   "source": [
    "# Convert index to string for combining purposes\n",
    "grouped_df.index = grouped_df.index.astype('int')\n",
    "grouped_df.index = grouped_df.index.astype('str')\n",
    "df_income.index = df_income.index.astype('str')\n",
    "\n",
    "# Combine the two dataframes and drop the rows that don't appear in both\n",
    "complaints_df = pd.concat([grouped_df, df_income], axis=1, sort=False)\n",
    "complaints_df = complaints_df.dropna()\n",
    "\n",
    "# Create total complaints by adding all complaints for a zip code\n",
    "complaints_df['Total Complaints'] = grouped_df.sum(axis=1)"
   ]
  },
  {
   "cell_type": "code",
   "execution_count": 5,
   "metadata": {},
   "outputs": [
    {
     "name": "stderr",
     "output_type": "stream",
     "text": [
      "/usr/local/lib/python3.7/dist-packages/ipykernel_launcher.py:6: FutureWarning: set_value is deprecated and will be removed in a future release. Please use .at[] or .iat[] accessors instead\n",
      "  \n",
      "/usr/local/lib/python3.7/dist-packages/ipykernel_launcher.py:7: FutureWarning: set_value is deprecated and will be removed in a future release. Please use .at[] or .iat[] accessors instead\n",
      "  import sys\n"
     ]
    },
    {
     "data": {
      "text/plain": [
       "Text(0.5, 0, 'Map Before Dropping Outliers')"
      ]
     },
     "execution_count": 5,
     "metadata": {},
     "output_type": "execute_result"
    },
    {
     "data": {
      "image/png": "[encoded data removed]",
      "text/plain": [
       "<Figure size 432x288 with 1 Axes>"
      ]
     },
     "metadata": {
      "needs_background": "light"
     },
     "output_type": "display_data"
    }
   ],
   "source": [
    "zcdb = ZipCodeDatabase()\n",
    "\n",
    "# Iterrate over rows to add Lat and Long to dataframe\n",
    "for index, row in complaints_df.iterrows():    \n",
    "    zipcode = zcdb[index]\n",
    "    complaints_df.set_value(index,'Latitude',zipcode.latitude)\n",
    "    complaints_df.set_value(index,'Longitude',zipcode.longitude)\n",
    "\n",
    "# Plot scatter plot with Long and Lat\n",
    "plt.plot(complaints_df['Longitude'], complaints_df['Latitude'],'o')\n",
    "plt.xlabel(\"Map Before Dropping Outliers\")"
   ]
  },
  {
   "cell_type": "code",
   "execution_count": 6,
   "metadata": {},
   "outputs": [
    {
     "data": {
      "text/plain": [
       "Text(0, 0.5, 'Total Complaints Before Dropping Outliers')"
      ]
     },
     "execution_count": 6,
     "metadata": {},
     "output_type": "execute_result"
    },
    {
     "data": {
      "image/png": "[encoded data removed]",
      "text/plain": [
       "<Figure size 432x288 with 1 Axes>"
      ]
     },
     "metadata": {
      "needs_background": "light"
     },
     "output_type": "display_data"
    }
   ],
   "source": [
    "y = complaints_df['Total Complaints']\n",
    "x = complaints_df['Wealth']\n",
    "\n",
    "# Using scipy get some stats from the x and y data\n",
    "slope, intercept, r_value, p_value, std_err = stats.linregress(x, y)\n",
    "\n",
    "# Calculate line of best fit\n",
    "line = slope*x+intercept\n",
    "\n",
    "# Plot our data\n",
    "plt.plot(x, y,'o', x, line)\n",
    "plt.xlabel('Wealth')\n",
    "plt.ylabel('Total Complaints Before Dropping Outliers')"
   ]
  },
  {
   "cell_type": "code",
   "execution_count": 7,
   "metadata": {},
   "outputs": [
    {
     "data": {
      "text/html": [
       "<div>\n",
       "<style scoped>\n",
       "    .dataframe tbody tr th:only-of-type {\n",
       "        vertical-align: middle;\n",
       "    }\n",
       "\n",
       "    .dataframe tbody tr th {\n",
       "        vertical-align: top;\n",
       "    }\n",
       "\n",
       "    .dataframe thead th {\n",
       "        text-align: right;\n",
       "    }\n",
       "</style>\n",
       "<table border=\"1\" class=\"dataframe\">\n",
       "  <thead>\n",
       "    <tr style=\"text-align: right;\">\n",
       "      <th></th>\n",
       "      <th>Checking or savings account</th>\n",
       "      <th>Consumer Loan</th>\n",
       "      <th>Credit reporting</th>\n",
       "      <th>Credit reporting, credit repair services, or other personal consumer reports</th>\n",
       "      <th>Debt collection</th>\n",
       "      <th>Mortgage</th>\n",
       "      <th>Credit card or prepaid card</th>\n",
       "      <th>Student loan</th>\n",
       "      <th>Bank account or service</th>\n",
       "      <th>Payday loan, title loan, or personal loan</th>\n",
       "      <th>...</th>\n",
       "      <th>Payday loan</th>\n",
       "      <th>Prepaid card</th>\n",
       "      <th>Money transfers</th>\n",
       "      <th>Other financial service</th>\n",
       "      <th>Number</th>\n",
       "      <th>Amount</th>\n",
       "      <th>Wealth</th>\n",
       "      <th>Total Complaints</th>\n",
       "      <th>Latitude</th>\n",
       "      <th>Longitude</th>\n",
       "    </tr>\n",
       "  </thead>\n",
       "  <tbody>\n",
       "    <tr>\n",
       "      <th>90001</th>\n",
       "      <td>3.0</td>\n",
       "      <td>1.0</td>\n",
       "      <td>4.0</td>\n",
       "      <td>28.0</td>\n",
       "      <td>22.0</td>\n",
       "      <td>6.0</td>\n",
       "      <td>0.0</td>\n",
       "      <td>0.0</td>\n",
       "      <td>0.0</td>\n",
       "      <td>0.0</td>\n",
       "      <td>...</td>\n",
       "      <td>0.0</td>\n",
       "      <td>0.0</td>\n",
       "      <td>0.0</td>\n",
       "      <td>0.0</td>\n",
       "      <td>21670.0</td>\n",
       "      <td>619635.0</td>\n",
       "      <td>28594.139363</td>\n",
       "      <td>64.0</td>\n",
       "      <td>33.9731</td>\n",
       "      <td>-118.2479</td>\n",
       "    </tr>\n",
       "    <tr>\n",
       "      <th>90002</th>\n",
       "      <td>0.0</td>\n",
       "      <td>0.0</td>\n",
       "      <td>0.0</td>\n",
       "      <td>21.0</td>\n",
       "      <td>13.0</td>\n",
       "      <td>3.0</td>\n",
       "      <td>4.0</td>\n",
       "      <td>7.0</td>\n",
       "      <td>0.0</td>\n",
       "      <td>0.0</td>\n",
       "      <td>...</td>\n",
       "      <td>0.0</td>\n",
       "      <td>0.0</td>\n",
       "      <td>0.0</td>\n",
       "      <td>0.0</td>\n",
       "      <td>19890.0</td>\n",
       "      <td>563172.0</td>\n",
       "      <td>28314.328808</td>\n",
       "      <td>48.0</td>\n",
       "      <td>33.9497</td>\n",
       "      <td>-118.2462</td>\n",
       "    </tr>\n",
       "    <tr>\n",
       "      <th>90003</th>\n",
       "      <td>3.0</td>\n",
       "      <td>0.0</td>\n",
       "      <td>0.0</td>\n",
       "      <td>40.0</td>\n",
       "      <td>9.0</td>\n",
       "      <td>4.0</td>\n",
       "      <td>1.0</td>\n",
       "      <td>1.0</td>\n",
       "      <td>1.0</td>\n",
       "      <td>0.0</td>\n",
       "      <td>...</td>\n",
       "      <td>0.0</td>\n",
       "      <td>0.0</td>\n",
       "      <td>0.0</td>\n",
       "      <td>0.0</td>\n",
       "      <td>27290.0</td>\n",
       "      <td>730810.0</td>\n",
       "      <td>26779.406376</td>\n",
       "      <td>59.0</td>\n",
       "      <td>33.9653</td>\n",
       "      <td>-118.2727</td>\n",
       "    </tr>\n",
       "    <tr>\n",
       "      <th>90004</th>\n",
       "      <td>7.0</td>\n",
       "      <td>0.0</td>\n",
       "      <td>0.0</td>\n",
       "      <td>13.0</td>\n",
       "      <td>8.0</td>\n",
       "      <td>3.0</td>\n",
       "      <td>5.0</td>\n",
       "      <td>2.0</td>\n",
       "      <td>1.0</td>\n",
       "      <td>1.0</td>\n",
       "      <td>...</td>\n",
       "      <td>0.0</td>\n",
       "      <td>0.0</td>\n",
       "      <td>0.0</td>\n",
       "      <td>0.0</td>\n",
       "      <td>27810.0</td>\n",
       "      <td>1995586.0</td>\n",
       "      <td>71757.856886</td>\n",
       "      <td>41.0</td>\n",
       "      <td>34.0762</td>\n",
       "      <td>-118.3029</td>\n",
       "    </tr>\n",
       "    <tr>\n",
       "      <th>90005</th>\n",
       "      <td>1.0</td>\n",
       "      <td>0.0</td>\n",
       "      <td>5.0</td>\n",
       "      <td>5.0</td>\n",
       "      <td>7.0</td>\n",
       "      <td>3.0</td>\n",
       "      <td>1.0</td>\n",
       "      <td>0.0</td>\n",
       "      <td>0.0</td>\n",
       "      <td>0.0</td>\n",
       "      <td>...</td>\n",
       "      <td>0.0</td>\n",
       "      <td>0.0</td>\n",
       "      <td>0.0</td>\n",
       "      <td>0.0</td>\n",
       "      <td>15850.0</td>\n",
       "      <td>807743.0</td>\n",
       "      <td>50961.703470</td>\n",
       "      <td>23.0</td>\n",
       "      <td>34.0585</td>\n",
       "      <td>-118.3012</td>\n",
       "    </tr>\n",
       "  </tbody>\n",
       "</table>\n",
       "<p>5 rows × 23 columns</p>\n",
       "</div>"
      ],
      "text/plain": [
       "       Checking or savings account  Consumer Loan  Credit reporting  \\\n",
       "90001                          3.0            1.0               4.0   \n",
       "90002                          0.0            0.0               0.0   \n",
       "90003                          3.0            0.0               0.0   \n",
       "90004                          7.0            0.0               0.0   \n",
       "90005                          1.0            0.0               5.0   \n",
       "\n",
       "       Credit reporting, credit repair services, or other personal consumer reports  \\\n",
       "90001                                               28.0                              \n",
       "90002                                               21.0                              \n",
       "90003                                               40.0                              \n",
       "90004                                               13.0                              \n",
       "90005                                                5.0                              \n",
       "\n",
       "       Debt collection  Mortgage  Credit card or prepaid card  Student loan  \\\n",
       "90001             22.0       6.0                          0.0           0.0   \n",
       "90002             13.0       3.0                          4.0           7.0   \n",
       "90003              9.0       4.0                          1.0           1.0   \n",
       "90004              8.0       3.0                          5.0           2.0   \n",
       "90005              7.0       3.0                          1.0           0.0   \n",
       "\n",
       "       Bank account or service  Payday loan, title loan, or personal loan  \\\n",
       "90001                      0.0                                        0.0   \n",
       "90002                      0.0                                        0.0   \n",
       "90003                      1.0                                        0.0   \n",
       "90004                      1.0                                        1.0   \n",
       "90005                      0.0                                        0.0   \n",
       "\n",
       "       ...  Payday loan  Prepaid card  Money transfers  \\\n",
       "90001  ...          0.0           0.0              0.0   \n",
       "90002  ...          0.0           0.0              0.0   \n",
       "90003  ...          0.0           0.0              0.0   \n",
       "90004  ...          0.0           0.0              0.0   \n",
       "90005  ...          0.0           0.0              0.0   \n",
       "\n",
       "       Other financial service   Number     Amount        Wealth  \\\n",
       "90001                      0.0  21670.0   619635.0  28594.139363   \n",
       "90002                      0.0  19890.0   563172.0  28314.328808   \n",
       "90003                      0.0  27290.0   730810.0  26779.406376   \n",
       "90004                      0.0  27810.0  1995586.0  71757.856886   \n",
       "90005                      0.0  15850.0   807743.0  50961.703470   \n",
       "\n",
       "       Total Complaints  Latitude  Longitude  \n",
       "90001              64.0   33.9731  -118.2479  \n",
       "90002              48.0   33.9497  -118.2462  \n",
       "90003              59.0   33.9653  -118.2727  \n",
       "90004              41.0   34.0762  -118.3029  \n",
       "90005              23.0   34.0585  -118.3012  \n",
       "\n",
       "[5 rows x 23 columns]"
      ]
     },
     "execution_count": 7,
     "metadata": {},
     "output_type": "execute_result"
    }
   ],
   "source": [
    "# Drop some outliers\n",
    "complaints_df.drop( complaints_df[ complaints_df['Total Complaints'] < 5 ].index , inplace=True)\n",
    "complaints_df.drop( complaints_df[ complaints_df['Wealth'] > 500000 ].index , inplace=True)\n",
    "\n",
    "complaints_df.head()"
   ]
  },
  {
   "cell_type": "code",
   "execution_count": 8,
   "metadata": {},
   "outputs": [
    {
     "data": {
      "text/plain": [
       "Text(0.5, 0, 'Map After Dropping Outliers')"
      ]
     },
     "execution_count": 8,
     "metadata": {},
     "output_type": "execute_result"
    },
    {
     "data": {
      "image/png": "[encoded data removed]",
      "text/plain": [
       "<Figure size 432x288 with 1 Axes>"
      ]
     },
     "metadata": {
      "needs_background": "light"
     },
     "output_type": "display_data"
    }
   ],
   "source": [
    "# Plot again after dropping outliers\n",
    "plt.plot(complaints_df['Longitude'], complaints_df['Latitude'],'o')\n",
    "plt.xlabel(\"Map After Dropping Outliers\")"
   ]
  },
  {
   "cell_type": "code",
   "execution_count": 9,
   "metadata": {},
   "outputs": [
    {
     "data": {
      "text/html": [
       "<div>\n",
       "<style scoped>\n",
       "    .dataframe tbody tr th:only-of-type {\n",
       "        vertical-align: middle;\n",
       "    }\n",
       "\n",
       "    .dataframe tbody tr th {\n",
       "        vertical-align: top;\n",
       "    }\n",
       "\n",
       "    .dataframe thead th {\n",
       "        text-align: right;\n",
       "    }\n",
       "</style>\n",
       "<table border=\"1\" class=\"dataframe\">\n",
       "  <thead>\n",
       "    <tr style=\"text-align: right;\">\n",
       "      <th></th>\n",
       "      <th>Number of Complaints</th>\n",
       "    </tr>\n",
       "  </thead>\n",
       "  <tbody>\n",
       "    <tr>\n",
       "      <th>Checking or savings account</th>\n",
       "      <td>2066</td>\n",
       "    </tr>\n",
       "    <tr>\n",
       "      <th>Consumer Loan</th>\n",
       "      <td>50</td>\n",
       "    </tr>\n",
       "    <tr>\n",
       "      <th>Credit reporting</th>\n",
       "      <td>463</td>\n",
       "    </tr>\n",
       "    <tr>\n",
       "      <th>Credit reporting, credit repair services, or other personal consumer reports</th>\n",
       "      <td>10390</td>\n",
       "    </tr>\n",
       "    <tr>\n",
       "      <th>Debt collection</th>\n",
       "      <td>3909</td>\n",
       "    </tr>\n",
       "    <tr>\n",
       "      <th>Mortgage</th>\n",
       "      <td>2574</td>\n",
       "    </tr>\n",
       "    <tr>\n",
       "      <th>Credit card or prepaid card</th>\n",
       "      <td>1867</td>\n",
       "    </tr>\n",
       "    <tr>\n",
       "      <th>Student loan</th>\n",
       "      <td>482</td>\n",
       "    </tr>\n",
       "    <tr>\n",
       "      <th>Bank account or service</th>\n",
       "      <td>160</td>\n",
       "    </tr>\n",
       "    <tr>\n",
       "      <th>Payday loan, title loan, or personal loan</th>\n",
       "      <td>277</td>\n",
       "    </tr>\n",
       "    <tr>\n",
       "      <th>Vehicle loan or lease</th>\n",
       "      <td>343</td>\n",
       "    </tr>\n",
       "    <tr>\n",
       "      <th>Credit card</th>\n",
       "      <td>134</td>\n",
       "    </tr>\n",
       "    <tr>\n",
       "      <th>Money transfer, virtual currency, or money service</th>\n",
       "      <td>339</td>\n",
       "    </tr>\n",
       "    <tr>\n",
       "      <th>Payday loan</th>\n",
       "      <td>5</td>\n",
       "    </tr>\n",
       "    <tr>\n",
       "      <th>Prepaid card</th>\n",
       "      <td>9</td>\n",
       "    </tr>\n",
       "    <tr>\n",
       "      <th>Money transfers</th>\n",
       "      <td>5</td>\n",
       "    </tr>\n",
       "    <tr>\n",
       "      <th>Other financial service</th>\n",
       "      <td>5</td>\n",
       "    </tr>\n",
       "    <tr>\n",
       "      <th>Number</th>\n",
       "      <td>10159770</td>\n",
       "    </tr>\n",
       "    <tr>\n",
       "      <th>Amount</th>\n",
       "      <td>735549168</td>\n",
       "    </tr>\n",
       "    <tr>\n",
       "      <th>Wealth</th>\n",
       "      <td>45995785</td>\n",
       "    </tr>\n",
       "    <tr>\n",
       "      <th>Total Complaints</th>\n",
       "      <td>23078</td>\n",
       "    </tr>\n",
       "    <tr>\n",
       "      <th>Latitude</th>\n",
       "      <td>20576</td>\n",
       "    </tr>\n",
       "    <tr>\n",
       "      <th>Longitude</th>\n",
       "      <td>-69667</td>\n",
       "    </tr>\n",
       "  </tbody>\n",
       "</table>\n",
       "</div>"
      ],
      "text/plain": [
       "                                                    Number of Complaints\n",
       "Checking or savings account                                         2066\n",
       "Consumer Loan                                                         50\n",
       "Credit reporting                                                     463\n",
       "Credit reporting, credit repair services, or ot...                 10390\n",
       "Debt collection                                                     3909\n",
       "Mortgage                                                            2574\n",
       "Credit card or prepaid card                                         1867\n",
       "Student loan                                                         482\n",
       "Bank account or service                                              160\n",
       "Payday loan, title loan, or personal loan                            277\n",
       "Vehicle loan or lease                                                343\n",
       "Credit card                                                          134\n",
       "Money transfer, virtual currency, or money service                   339\n",
       "Payday loan                                                            5\n",
       "Prepaid card                                                           9\n",
       "Money transfers                                                        5\n",
       "Other financial service                                                5\n",
       "Number                                                          10159770\n",
       "Amount                                                         735549168\n",
       "Wealth                                                          45995785\n",
       "Total Complaints                                                   23078\n",
       "Latitude                                                           20576\n",
       "Longitude                                                         -69667"
      ]
     },
     "execution_count": 9,
     "metadata": {},
     "output_type": "execute_result"
    }
   ],
   "source": [
    "# Shows all the complaint categories and counts the number for each one\n",
    "complaints_num_df = pd.DataFrame()\n",
    "column_list = complaints_df.columns.tolist()\n",
    "\n",
    "complaints_num_df['Number of Complaints'] = complaints_df.sum().astype(int)\n",
    "complaints_num_df"
   ]
  },
  {
   "cell_type": "code",
   "execution_count": 10,
   "metadata": {},
   "outputs": [
    {
     "data": {
      "text/html": [
       "<div>\n",
       "<style scoped>\n",
       "    .dataframe tbody tr th:only-of-type {\n",
       "        vertical-align: middle;\n",
       "    }\n",
       "\n",
       "    .dataframe tbody tr th {\n",
       "        vertical-align: top;\n",
       "    }\n",
       "\n",
       "    .dataframe thead th {\n",
       "        text-align: right;\n",
       "    }\n",
       "</style>\n",
       "<table border=\"1\" class=\"dataframe\">\n",
       "  <thead>\n",
       "    <tr style=\"text-align: right;\">\n",
       "      <th></th>\n",
       "      <th>Checking or savings account</th>\n",
       "      <th>Credit reporting, credit repair services, or other personal consumer reports</th>\n",
       "      <th>Debt collection</th>\n",
       "      <th>Mortgage</th>\n",
       "      <th>Credit card or prepaid card</th>\n",
       "      <th>Number</th>\n",
       "      <th>Amount</th>\n",
       "      <th>Wealth</th>\n",
       "      <th>Total Complaints</th>\n",
       "      <th>Latitude</th>\n",
       "    </tr>\n",
       "  </thead>\n",
       "  <tbody>\n",
       "    <tr>\n",
       "      <th>90001</th>\n",
       "      <td>3.0</td>\n",
       "      <td>28.0</td>\n",
       "      <td>22.0</td>\n",
       "      <td>6.0</td>\n",
       "      <td>0.0</td>\n",
       "      <td>21670.0</td>\n",
       "      <td>619635.0</td>\n",
       "      <td>28594.139363</td>\n",
       "      <td>64.0</td>\n",
       "      <td>33.9731</td>\n",
       "    </tr>\n",
       "    <tr>\n",
       "      <th>90002</th>\n",
       "      <td>0.0</td>\n",
       "      <td>21.0</td>\n",
       "      <td>13.0</td>\n",
       "      <td>3.0</td>\n",
       "      <td>4.0</td>\n",
       "      <td>19890.0</td>\n",
       "      <td>563172.0</td>\n",
       "      <td>28314.328808</td>\n",
       "      <td>48.0</td>\n",
       "      <td>33.9497</td>\n",
       "    </tr>\n",
       "    <tr>\n",
       "      <th>90003</th>\n",
       "      <td>3.0</td>\n",
       "      <td>40.0</td>\n",
       "      <td>9.0</td>\n",
       "      <td>4.0</td>\n",
       "      <td>1.0</td>\n",
       "      <td>27290.0</td>\n",
       "      <td>730810.0</td>\n",
       "      <td>26779.406376</td>\n",
       "      <td>59.0</td>\n",
       "      <td>33.9653</td>\n",
       "    </tr>\n",
       "    <tr>\n",
       "      <th>90004</th>\n",
       "      <td>7.0</td>\n",
       "      <td>13.0</td>\n",
       "      <td>8.0</td>\n",
       "      <td>3.0</td>\n",
       "      <td>5.0</td>\n",
       "      <td>27810.0</td>\n",
       "      <td>1995586.0</td>\n",
       "      <td>71757.856886</td>\n",
       "      <td>41.0</td>\n",
       "      <td>34.0762</td>\n",
       "    </tr>\n",
       "    <tr>\n",
       "      <th>90005</th>\n",
       "      <td>1.0</td>\n",
       "      <td>5.0</td>\n",
       "      <td>7.0</td>\n",
       "      <td>3.0</td>\n",
       "      <td>1.0</td>\n",
       "      <td>15850.0</td>\n",
       "      <td>807743.0</td>\n",
       "      <td>50961.703470</td>\n",
       "      <td>23.0</td>\n",
       "      <td>34.0585</td>\n",
       "    </tr>\n",
       "  </tbody>\n",
       "</table>\n",
       "</div>"
      ],
      "text/plain": [
       "       Checking or savings account  \\\n",
       "90001                          3.0   \n",
       "90002                          0.0   \n",
       "90003                          3.0   \n",
       "90004                          7.0   \n",
       "90005                          1.0   \n",
       "\n",
       "       Credit reporting, credit repair services, or other personal consumer reports  \\\n",
       "90001                                               28.0                              \n",
       "90002                                               21.0                              \n",
       "90003                                               40.0                              \n",
       "90004                                               13.0                              \n",
       "90005                                                5.0                              \n",
       "\n",
       "       Debt collection  Mortgage  Credit card or prepaid card   Number  \\\n",
       "90001             22.0       6.0                          0.0  21670.0   \n",
       "90002             13.0       3.0                          4.0  19890.0   \n",
       "90003              9.0       4.0                          1.0  27290.0   \n",
       "90004              8.0       3.0                          5.0  27810.0   \n",
       "90005              7.0       3.0                          1.0  15850.0   \n",
       "\n",
       "          Amount        Wealth  Total Complaints  Latitude  \n",
       "90001   619635.0  28594.139363              64.0   33.9731  \n",
       "90002   563172.0  28314.328808              48.0   33.9497  \n",
       "90003   730810.0  26779.406376              59.0   33.9653  \n",
       "90004  1995586.0  71757.856886              41.0   34.0762  \n",
       "90005   807743.0  50961.703470              23.0   34.0585  "
      ]
     },
     "execution_count": 10,
     "metadata": {},
     "output_type": "execute_result"
    }
   ],
   "source": [
    "# Get rid of complaint types that have less than 1000 number of complaints\n",
    "to_drop = (complaints_num_df[complaints_num_df['Number of Complaints'] < 1000].index).tolist()\n",
    "complaints_df = complaints_df.drop(columns=to_drop)\n",
    "\n",
    "complaints_df.head()"
   ]
  },
  {
   "cell_type": "code",
   "execution_count": 11,
   "metadata": {},
   "outputs": [
    {
     "data": {
      "text/html": [
       "<div>\n",
       "<style scoped>\n",
       "    .dataframe tbody tr th:only-of-type {\n",
       "        vertical-align: middle;\n",
       "    }\n",
       "\n",
       "    .dataframe tbody tr th {\n",
       "        vertical-align: top;\n",
       "    }\n",
       "\n",
       "    .dataframe thead th {\n",
       "        text-align: right;\n",
       "    }\n",
       "</style>\n",
       "<table border=\"1\" class=\"dataframe\">\n",
       "  <thead>\n",
       "    <tr style=\"text-align: right;\">\n",
       "      <th></th>\n",
       "      <th>Checking or savings account</th>\n",
       "      <th>Credit reporting, credit repair services, or other personal consumer reports</th>\n",
       "      <th>Debt collection</th>\n",
       "      <th>Mortgage</th>\n",
       "      <th>Credit card or prepaid card</th>\n",
       "      <th>Number</th>\n",
       "      <th>Amount</th>\n",
       "      <th>Wealth</th>\n",
       "      <th>Total Complaints</th>\n",
       "      <th>Latitude</th>\n",
       "      <th>Checking or savings account index</th>\n",
       "      <th>Credit reporting, credit repair services, or other personal consumer reports index</th>\n",
       "      <th>Debt collection index</th>\n",
       "      <th>Mortgage index</th>\n",
       "      <th>Credit card or prepaid card index</th>\n",
       "      <th>Total Complaints Score</th>\n",
       "    </tr>\n",
       "  </thead>\n",
       "  <tbody>\n",
       "    <tr>\n",
       "      <th>90001</th>\n",
       "      <td>3.0</td>\n",
       "      <td>28.0</td>\n",
       "      <td>22.0</td>\n",
       "      <td>6.0</td>\n",
       "      <td>0.0</td>\n",
       "      <td>21670.0</td>\n",
       "      <td>619635.0</td>\n",
       "      <td>28594.139363</td>\n",
       "      <td>64.0</td>\n",
       "      <td>33.9731</td>\n",
       "      <td>0.046875</td>\n",
       "      <td>0.437500</td>\n",
       "      <td>0.343750</td>\n",
       "      <td>0.093750</td>\n",
       "      <td>0.000000</td>\n",
       "      <td>2.953392</td>\n",
       "    </tr>\n",
       "    <tr>\n",
       "      <th>90002</th>\n",
       "      <td>0.0</td>\n",
       "      <td>21.0</td>\n",
       "      <td>13.0</td>\n",
       "      <td>3.0</td>\n",
       "      <td>4.0</td>\n",
       "      <td>19890.0</td>\n",
       "      <td>563172.0</td>\n",
       "      <td>28314.328808</td>\n",
       "      <td>48.0</td>\n",
       "      <td>33.9497</td>\n",
       "      <td>0.000000</td>\n",
       "      <td>0.437500</td>\n",
       "      <td>0.270833</td>\n",
       "      <td>0.062500</td>\n",
       "      <td>0.083333</td>\n",
       "      <td>2.413273</td>\n",
       "    </tr>\n",
       "    <tr>\n",
       "      <th>90003</th>\n",
       "      <td>3.0</td>\n",
       "      <td>40.0</td>\n",
       "      <td>9.0</td>\n",
       "      <td>4.0</td>\n",
       "      <td>1.0</td>\n",
       "      <td>27290.0</td>\n",
       "      <td>730810.0</td>\n",
       "      <td>26779.406376</td>\n",
       "      <td>59.0</td>\n",
       "      <td>33.9653</td>\n",
       "      <td>0.050847</td>\n",
       "      <td>0.677966</td>\n",
       "      <td>0.152542</td>\n",
       "      <td>0.067797</td>\n",
       "      <td>0.016949</td>\n",
       "      <td>2.161964</td>\n",
       "    </tr>\n",
       "    <tr>\n",
       "      <th>90004</th>\n",
       "      <td>7.0</td>\n",
       "      <td>13.0</td>\n",
       "      <td>8.0</td>\n",
       "      <td>3.0</td>\n",
       "      <td>5.0</td>\n",
       "      <td>27810.0</td>\n",
       "      <td>1995586.0</td>\n",
       "      <td>71757.856886</td>\n",
       "      <td>41.0</td>\n",
       "      <td>34.0762</td>\n",
       "      <td>0.170732</td>\n",
       "      <td>0.317073</td>\n",
       "      <td>0.195122</td>\n",
       "      <td>0.073171</td>\n",
       "      <td>0.121951</td>\n",
       "      <td>1.474290</td>\n",
       "    </tr>\n",
       "    <tr>\n",
       "      <th>90005</th>\n",
       "      <td>1.0</td>\n",
       "      <td>5.0</td>\n",
       "      <td>7.0</td>\n",
       "      <td>3.0</td>\n",
       "      <td>1.0</td>\n",
       "      <td>15850.0</td>\n",
       "      <td>807743.0</td>\n",
       "      <td>50961.703470</td>\n",
       "      <td>23.0</td>\n",
       "      <td>34.0585</td>\n",
       "      <td>0.043478</td>\n",
       "      <td>0.217391</td>\n",
       "      <td>0.304348</td>\n",
       "      <td>0.130435</td>\n",
       "      <td>0.043478</td>\n",
       "      <td>1.451104</td>\n",
       "    </tr>\n",
       "  </tbody>\n",
       "</table>\n",
       "</div>"
      ],
      "text/plain": [
       "       Checking or savings account  \\\n",
       "90001                          3.0   \n",
       "90002                          0.0   \n",
       "90003                          3.0   \n",
       "90004                          7.0   \n",
       "90005                          1.0   \n",
       "\n",
       "       Credit reporting, credit repair services, or other personal consumer reports  \\\n",
       "90001                                               28.0                              \n",
       "90002                                               21.0                              \n",
       "90003                                               40.0                              \n",
       "90004                                               13.0                              \n",
       "90005                                                5.0                              \n",
       "\n",
       "       Debt collection  Mortgage  Credit card or prepaid card   Number  \\\n",
       "90001             22.0       6.0                          0.0  21670.0   \n",
       "90002             13.0       3.0                          4.0  19890.0   \n",
       "90003              9.0       4.0                          1.0  27290.0   \n",
       "90004              8.0       3.0                          5.0  27810.0   \n",
       "90005              7.0       3.0                          1.0  15850.0   \n",
       "\n",
       "          Amount        Wealth  Total Complaints  Latitude  \\\n",
       "90001   619635.0  28594.139363              64.0   33.9731   \n",
       "90002   563172.0  28314.328808              48.0   33.9497   \n",
       "90003   730810.0  26779.406376              59.0   33.9653   \n",
       "90004  1995586.0  71757.856886              41.0   34.0762   \n",
       "90005   807743.0  50961.703470              23.0   34.0585   \n",
       "\n",
       "       Checking or savings account index  \\\n",
       "90001                           0.046875   \n",
       "90002                           0.000000   \n",
       "90003                           0.050847   \n",
       "90004                           0.170732   \n",
       "90005                           0.043478   \n",
       "\n",
       "       Credit reporting, credit repair services, or other personal consumer reports index  \\\n",
       "90001                                           0.437500                                    \n",
       "90002                                           0.437500                                    \n",
       "90003                                           0.677966                                    \n",
       "90004                                           0.317073                                    \n",
       "90005                                           0.217391                                    \n",
       "\n",
       "       Debt collection index  Mortgage index  \\\n",
       "90001               0.343750        0.093750   \n",
       "90002               0.270833        0.062500   \n",
       "90003               0.152542        0.067797   \n",
       "90004               0.195122        0.073171   \n",
       "90005               0.304348        0.130435   \n",
       "\n",
       "       Credit card or prepaid card index  Total Complaints Score  \n",
       "90001                           0.000000                2.953392  \n",
       "90002                           0.083333                2.413273  \n",
       "90003                           0.016949                2.161964  \n",
       "90004                           0.121951                1.474290  \n",
       "90005                           0.043478                1.451104  "
      ]
     },
     "execution_count": 11,
     "metadata": {},
     "output_type": "execute_result"
    }
   ],
   "source": [
    "# Create index columns for the larger complaint types.\n",
    "# these were created by dividing the amount of these complaints\n",
    "# by the total complaints for the zip code to get out the frequency\n",
    "# that a certain zip code complains about certain things\n",
    "complaints_df['Checking or savings account index'] = complaints_df['Checking or savings account'] / complaints_df['Total Complaints']\n",
    "complaints_df['Credit reporting, credit repair services, or other personal consumer reports index'] = complaints_df['Credit reporting, credit repair services, or other personal consumer reports'] / complaints_df['Total Complaints']\n",
    "complaints_df['Debt collection index'] = complaints_df['Debt collection'] / complaints_df['Total Complaints']\n",
    "complaints_df['Mortgage index'] = complaints_df['Mortgage'] / complaints_df['Total Complaints']\n",
    "complaints_df['Credit card or prepaid card index'] = complaints_df['Credit card or prepaid card'] / complaints_df['Total Complaints']\n",
    "\n",
    "# Total complaint score = ( Total Complaints / Number of returns ) * 1000\n",
    "complaints_df['Total Complaints Score'] = complaints_df['Total Complaints'] / complaints_df['Number'] * 1000\n",
    "\n",
    "complaints_df.head()"
   ]
  },
  {
   "cell_type": "code",
   "execution_count": 12,
   "metadata": {},
   "outputs": [
    {
     "data": {
      "text/plain": [
       "Text(0.5, 0, 'Wealth')"
      ]
     },
     "execution_count": 12,
     "metadata": {},
     "output_type": "execute_result"
    },
    {
     "data": {
      "image/png": "[encoded data removed]",
      "text/plain": [
       "<Figure size 432x288 with 1 Axes>"
      ]
     },
     "metadata": {
      "needs_background": "light"
     },
     "output_type": "display_data"
    }
   ],
   "source": [
    "plt.hist(complaints_df['Wealth'])\n",
    "plt.xlabel('Wealth')"
   ]
  },
  {
   "cell_type": "code",
   "execution_count": 13,
   "metadata": {},
   "outputs": [
    {
     "data": {
      "text/plain": [
       "Text(0.5, 0, 'Total Complaints Score')"
      ]
     },
     "execution_count": 13,
     "metadata": {},
     "output_type": "execute_result"
    },
    {
     "data": {
      "image/png": "[encoded data removed]",
      "text/plain": [
       "<Figure size 432x288 with 1 Axes>"
      ]
     },
     "metadata": {
      "needs_background": "light"
     },
     "output_type": "display_data"
    }
   ],
   "source": [
    "plt.hist(complaints_df['Total Complaints Score'])\n",
    "plt.xlabel('Total Complaints Score')"
   ]
  },
  {
   "cell_type": "code",
   "execution_count": 14,
   "metadata": {},
   "outputs": [
    {
     "data": {
      "text/plain": [
       "Text(0, 0.5, 'Total Complaints Score')"
      ]
     },
     "execution_count": 14,
     "metadata": {},
     "output_type": "execute_result"
    },
    {
     "data": {
      "image/png": "[encoded data removed]",
      "text/plain": [
       "<Figure size 432x288 with 1 Axes>"
      ]
     },
     "metadata": {
      "needs_background": "light"
     },
     "output_type": "display_data"
    }
   ],
   "source": [
    "y = complaints_df['Total Complaints Score']\n",
    "x = complaints_df['Wealth']\n",
    "\n",
    "# Using scipy get some stats from the x and y data\n",
    "slope, intercept, r_value_total_complaints, p_value_total_complaints, std_err = stats.linregress(x, y)\n",
    "\n",
    "# Calculate line of best fit\n",
    "line = slope*x+intercept\n",
    "\n",
    "# Plot our data\n",
    "plt.plot(x, y,'o', x, line)\n",
    "plt.xlabel('Wealth')\n",
    "plt.ylabel('Total Complaints Score')"
   ]
  },
  {
   "cell_type": "code",
   "execution_count": 15,
   "metadata": {},
   "outputs": [
    {
     "data": {
      "text/plain": [
       "Text(0, 0.5, 'Credit card or prepaid card index')"
      ]
     },
     "execution_count": 15,
     "metadata": {},
     "output_type": "execute_result"
    },
    {
     "data": {
      "image/png": "[encoded data removed]",
      "text/plain": [
       "<Figure size 432x288 with 1 Axes>"
      ]
     },
     "metadata": {
      "needs_background": "light"
     },
     "output_type": "display_data"
    }
   ],
   "source": [
    "y = complaints_df['Credit card or prepaid card index']\n",
    "x = complaints_df['Wealth']\n",
    "\n",
    "# Using scipy get some stats from the x and y data\n",
    "slope, intercept, r_value_account, p_value_account, std_err = stats.linregress(x, y)\n",
    "\n",
    "# Calculate line of best fit\n",
    "line = slope*x+intercept\n",
    "\n",
    "# Plot our data\n",
    "plt.plot(x, y,'o', x, line)\n",
    "plt.xlabel('Wealth')\n",
    "plt.ylabel('Credit card or prepaid card index')"
   ]
  },
  {
   "cell_type": "code",
   "execution_count": 16,
   "metadata": {},
   "outputs": [
    {
     "data": {
      "text/plain": [
       "Text(0, 0.5, 'Checking or savings account index')"
      ]
     },
     "execution_count": 16,
     "metadata": {},
     "output_type": "execute_result"
    },
    {
     "data": {
      "image/png": "[encoded data removed]",
      "text/plain": [
       "<Figure size 432x288 with 1 Axes>"
      ]
     },
     "metadata": {
      "needs_background": "light"
     },
     "output_type": "display_data"
    }
   ],
   "source": [
    "y = complaints_df['Checking or savings account index']\n",
    "x = complaints_df['Wealth']\n",
    "\n",
    "# Using scipy get some stats from the x and y data\n",
    "slope, intercept, r_value_cards, p_value_cards, std_err = stats.linregress(x, y)\n",
    "\n",
    "# Calculate line of best fit\n",
    "line = slope*x+intercept\n",
    "\n",
    "# Plot our data\n",
    "plt.plot(x, y,'o', x, line)\n",
    "plt.xlabel('Wealth')\n",
    "plt.ylabel('Checking or savings account index')"
   ]
  },
  {
   "cell_type": "code",
   "execution_count": 17,
   "metadata": {},
   "outputs": [
    {
     "data": {
      "text/plain": [
       "Text(0, 0.5, 'Credit reporting, credit repair services, or other personal consumer reports index')"
      ]
     },
     "execution_count": 17,
     "metadata": {},
     "output_type": "execute_result"
    },
    {
     "data": {
      "image/png": "[encoded data removed]",
      "text/plain": [
       "<Figure size 432x288 with 1 Axes>"
      ]
     },
     "metadata": {
      "needs_background": "light"
     },
     "output_type": "display_data"
    }
   ],
   "source": [
    "y = complaints_df['Credit reporting, credit repair services, or other personal consumer reports index']\n",
    "x = complaints_df['Wealth']\n",
    "\n",
    "# Using scipy get some stats from the x and y data\n",
    "slope, intercept, r_value_credit, p_value_credit, std_err = stats.linregress(x, y)\n",
    "\n",
    "# Calculate line of best fit\n",
    "line = slope*x+intercept\n",
    "\n",
    "# Plot our data\n",
    "plt.plot(x, y,'o', x, line)\n",
    "plt.xlabel('Wealth')\n",
    "plt.ylabel('Credit reporting, credit repair services, or other personal consumer reports index')"
   ]
  },
  {
   "cell_type": "code",
   "execution_count": 18,
   "metadata": {},
   "outputs": [
    {
     "data": {
      "text/plain": [
       "Text(0, 0.5, 'Mortgage index')"
      ]
     },
     "execution_count": 18,
     "metadata": {},
     "output_type": "execute_result"
    },
    {
     "data": {
      "image/png": "[encoded data removed]",
      "text/plain": [
       "<Figure size 432x288 with 1 Axes>"
      ]
     },
     "metadata": {
      "needs_background": "light"
     },
     "output_type": "display_data"
    }
   ],
   "source": [
    "y = complaints_df['Mortgage index']\n",
    "x = complaints_df['Wealth']\n",
    "\n",
    "# Using scipy get some stats from the x and y data\n",
    "slope, intercept, r_value_mortgage, p_value_mortgage, std_err = stats.linregress(x, y)\n",
    "\n",
    "# Calculate line of best fit\n",
    "line = slope*x+intercept\n",
    "\n",
    "# Plot our data\n",
    "plt.plot(x, y,'o', x, line)\n",
    "plt.xlabel('Wealth')\n",
    "plt.ylabel('Mortgage index')"
   ]
  },
  {
   "cell_type": "code",
   "execution_count": 19,
   "metadata": {},
   "outputs": [
    {
     "data": {
      "text/plain": [
       "Text(0, 0.5, 'Debt collection index')"
      ]
     },
     "execution_count": 19,
     "metadata": {},
     "output_type": "execute_result"
    },
    {
     "data": {
      "image/png": "[encoded data removed]",
      "text/plain": [
       "<Figure size 432x288 with 1 Axes>"
      ]
     },
     "metadata": {
      "needs_background": "light"
     },
     "output_type": "display_data"
    }
   ],
   "source": [
    "y = complaints_df['Debt collection index']\n",
    "x = complaints_df['Wealth']\n",
    "\n",
    "# Using scipy get some stats from the x and y data\n",
    "slope, intercept, r_value_debt, p_value_debt, std_err = stats.linregress(x, y)\n",
    "\n",
    "# Calculate line of best fit\n",
    "line = slope*x+intercept\n",
    "\n",
    "# Plot our data\n",
    "plt.plot(x, y,'o', x, line)\n",
    "plt.xlabel('Wealth')\n",
    "plt.ylabel('Debt collection index')"
   ]
  },
  {
   "cell_type": "code",
   "execution_count": 20,
   "metadata": {},
   "outputs": [
    {
     "name": "stdout",
     "output_type": "stream",
     "text": [
      "Total Complaints Score p-value: 0.08901403095114181\n",
      "We do not have evidence to reject the null hypothesis.\n",
      "Credit card or prepaid card index p-value: 0.007914388111044363\n",
      "We have evidence to reject the null hypothesis.\n",
      "Credit reporting, credit repair services, or other personal consumer reports index p-value: 0.0008884173629271891\n",
      "We have evidence to reject the null hypothesis.\n",
      "Checking or savings account index p-value: 0.2334688942785364\n",
      "We do not have evidence to reject the null hypothesis.\n",
      "Mortgage index p-value: 0.07170445922293184\n",
      "We do not have evidence to reject the null hypothesis.\n",
      "Debt collection index p-value: 0.0016364946328028076\n",
      "We have evidence to reject the null hypothesis.\n",
      "\n",
      "Total Complaints Score r-squared: 0.004944227641171785\n",
      "Credit card or prepaid card index r-squared: 0.012014197743785314\n",
      "Credit reporting, credit repair services, or other personal consumer reports index r-squared: 0.018753799687382368\n",
      "Checking or savings account index r-squared: 0.0024299501748667493\n",
      "Mortgage index r-squared: 0.005543382944027229\n",
      "Debt collection index r-squared: 0.01685415331734389\n"
     ]
    }
   ],
   "source": [
    "def check_p_val(p_val, alpha = 0.05):\n",
    "\n",
    "    if p_val < alpha:\n",
    "        return 'We have evidence to reject the null hypothesis.'\n",
    "    else:\n",
    "        return 'We do not have evidence to reject the null hypothesis.'\n",
    "\n",
    "print(\"Total Complaints Score p-value: \" + str(p_value_total_complaints))\n",
    "print(check_p_val(p_value_total_complaints))\n",
    "print(\"Credit card or prepaid card index p-value: \" + str(p_value_cards))\n",
    "print(check_p_val(p_value_cards))\n",
    "print(\"Credit reporting, credit repair services, or other personal consumer reports index p-value: \" + str(p_value_account))\n",
    "print(check_p_val(p_value_account))\n",
    "print(\"Checking or savings account index p-value: \" + str(p_value_credit))\n",
    "print(check_p_val(p_value_credit))\n",
    "print(\"Mortgage index p-value: \" + str(p_value_mortgage))\n",
    "print(check_p_val(p_value_mortgage))\n",
    "print(\"Debt collection index p-value: \" + str(p_value_debt))\n",
    "print(check_p_val(p_value_debt))\n",
    "\n",
    "print()\n",
    "\n",
    "print(\"Total Complaints Score r-squared: \" + str(r_value_total_complaints * r_value_total_complaints))\n",
    "print(\"Credit card or prepaid card index r-squared: \" + str(r_value_cards * r_value_cards))\n",
    "print(\"Credit reporting, credit repair services, or other personal consumer reports index r-squared: \" + str(r_value_account * r_value_account))\n",
    "print(\"Checking or savings account index r-squared: \" + str(r_value_credit * r_value_credit))\n",
    "print(\"Mortgage index r-squared: \" + str(r_value_mortgage * r_value_mortgage))\n",
    "print(\"Debt collection index r-squared: \" + str(r_value_debt * r_value_debt))\n"
   ]
  },
  {
   "cell_type": "markdown",
   "metadata": {},
   "source": [
    "DATA ANALYSIS & RESULTS: This section should include markdown text and code walking us through the following: \n",
    "- EDA - What distributions do your variables take? \n",
    "- Are there any outliers? - Relationship between variables? - Analysis (Note that you will likely have to do some Googling for analytical approaches not discussed in \n",
    "class. This is expected for this project and an important skill for a data scientist to master.) \n",
    "- What approaches did you use? Why? - What were the results? - What were your interpretation of these findings. \n"
   ]
  },
  {
   "cell_type": "markdown",
   "metadata": {},
   "source": [
    "There must be at least three appropriate data visualizations​throughout these sections. Each visualization must included an interpretation of what is displayed *and* what should be learned from that visualization. Be sure that the appropriate type of visualization is generated given the data that you have, axes are all labeled, and the visualizations clearly communicate the point you’re trying to make. "
   ]
  },
  {
   "cell_type": "markdown",
   "metadata": {},
   "source": [
    "ETHICS & PRIVACY: \n",
    "Briefly acknowledge and address any potential issues of ethics and privacy for the proposed project. In particular: \n",
    "- Did you have permission to use this data, for this purpose? - Are there privacy concerns regarding your datasets that you need to deal with, and/or terms of use that \n",
    "you need to comply with? - Are there potential biases in your dataset(s), in terms of who it composes, and how it was collected, that \n",
    "may be problematic in terms of it allowing for equitable analysis? (For example, does your data exclude particular populations, or is it likely to reflect particular human biases in a way that could be a problem?) - Are there any other issues related to your topic area, data, and/or analyses that are potentially problematic \n",
    "in terms of data privacy and equitable impact? - How did you handle issues you identified? \n",
    "(1-2 paragraphs) \n"
   ]
  },
  {
   "cell_type": "markdown",
   "metadata": {},
   "source": [
    "CONCLUSION & DISCUSSION: Discuss your project. Summarize your data and question. Briefly describe your analysis. Summarize your results and conclusions. Be sure to mention any limitations of your project. Discuss the impact of this work on society. (2-3 paragraphs) "
   ]
  }
 ],
 "metadata": {
  "kernelspec": {
   "display_name": "Python 3",
   "language": "python",
   "name": "python3"
  },
  "language_info": {
   "codemirror_mode": {
    "name": "ipython",
    "version": 3
   },
   "file_extension": ".py",
   "mimetype": "text/x-python",
   "name": "python",
   "nbconvert_exporter": "python",
   "pygments_lexer": "ipython3",
   "version": "3.7.3"
  }
 },
 "nbformat": 4,
 "nbformat_minor": 2
}
